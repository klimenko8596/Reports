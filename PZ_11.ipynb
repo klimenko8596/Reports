{
  "nbformat": 4,
  "nbformat_minor": 0,
  "metadata": {
    "colab": {
      "name": "PZ_11.ipynb",
      "provenance": [],
      "authorship_tag": "ABX9TyOtNH7vDj7O7msWc4FUMfso",
      "include_colab_link": true
    },
    "kernelspec": {
      "name": "python3",
      "display_name": "Python 3"
    },
    "language_info": {
      "name": "python"
    }
  },
  "cells": [
    {
      "cell_type": "markdown",
      "metadata": {
        "id": "view-in-github",
        "colab_type": "text"
      },
      "source": [
        "<a href=\"https://colab.research.google.com/github/klimenko8596/Reports/blob/main/PZ_11.ipynb\" target=\"_parent\"><img src=\"https://colab.research.google.com/assets/colab-badge.svg\" alt=\"Open In Colab\"/></a>"
      ]
    },
    {
      "cell_type": "code",
      "execution_count": 1,
      "metadata": {
        "colab": {
          "base_uri": "https://localhost:8080/",
          "height": 0
        },
        "id": "HQ35hCUp90Fq",
        "outputId": "1bc6dc00-7fbf-4409-c7a9-f16bb3dc049c"
      },
      "outputs": [
        {
          "output_type": "stream",
          "name": "stdout",
          "text": [
            "введите первое значение: 1\n",
            "Введите второе значение: 2\n",
            "Число 1 нечётное\n"
          ]
        }
      ],
      "source": [
        "# PZ_3.1\n",
        "# Даны два целых числа A, B. Проверить истинность высказывания: \"Хотя бы одно из чисел A и B нечётное\"\n",
        "a, b = input(\"введите первое значение: \"), input(\"Введите второе значение: \") # Ввод входных значений\n",
        "while type(a) != int and type(b) != int:\n",
        "    try:\n",
        "        a = int(a)\n",
        "        b = int(b)\n",
        "    except ValueError:\n",
        "        print(f\"Одно из значение не является целочисленный, попробуйте снова. . .\")\n",
        "        a, b = input(\"введите первое значение: \"), input(\"Введите второе значение: \")\n",
        "if a % 2 == 0 and b % 2 == 0: # Проверка на чётность.\n",
        "    print('Оба значения чётные')\n",
        "elif a % 2 != 0 and b % 2 != 0: # Проверка на нечётность обоих значений.\n",
        "    print('Оба значения нечётные')\n",
        "elif a % 2 != 0: # Проверка на наличие хотя бы одного чётного элемента.\n",
        "    print(f'Число {a} нечётное')\n",
        "elif b % 2 != 0:\n",
        "    print(f'Число {b} нечётное')\n"
      ]
    },
    {
      "cell_type": "code",
      "source": [
        "# PZ_4.1\n",
        "# Дано целоек число N (>0). Найти сумму 1 + 1/2 + 1/3 + ... + 1/N\n",
        "n = input(f\"введите предел n: \") # Ввод предела.\n",
        "\n",
        "while type(n) != int: # Обработка исключений.\n",
        "    try:\n",
        "        n = int(n)\n",
        "    except ValueError:\n",
        "        print(f\"Введённый предел не является целочисленным. . . \")\n",
        "        n = input(f\"введите предел n: \")\n",
        "\n",
        "count = 0\n",
        "k = 1\n",
        "\n",
        "while k <= 8: # Проведение рассчётов.\n",
        "    count += (1/k)\n",
        "    k += 1\n",
        "\n",
        "print(count)"
      ],
      "metadata": {
        "colab": {
          "base_uri": "https://localhost:8080/",
          "height": 0
        },
        "id": "YHHH12cl-MkP",
        "outputId": "b4ed0e22-360b-483f-c123-abe84f2d784e"
      },
      "execution_count": 2,
      "outputs": [
        {
          "output_type": "stream",
          "name": "stdout",
          "text": [
            "введите предел n: 12\n",
            "2.7178571428571425\n"
          ]
        }
      ]
    },
    {
      "cell_type": "code",
      "source": [
        "# PZ_5.1\n",
        "# Составить программу, в которой функция генерирут четырёхзначное число и определяет, есть ли в числе одинаковые цифры.\n",
        "import random  # Вызываем 'random' для дальнейшей генирации\n",
        "\n",
        "\n",
        "def generate_and_replay():  # Создаём функцию для генерации и нахождения совпадений\n",
        "    a = random.randint(1000, 9999)  # Генерируем рандомное четырёх значное число в переменную a\n",
        "    print(a)  # Выводим это число\n",
        "    if int(len(set(str(a))) != 4):  # Если в числе количество неповторяющихся цифр неравно начальному их количеству, то\n",
        "        print('В числе есть совпадающие цифры')  # Выводим, что в числе есть одинаковые цифры\n",
        "    else:  # Иначе\n",
        "        print('В числе нет совпадающюх цифр')  # Выводим совпадающих цифр нет\n",
        "\n",
        "\n",
        "generate_and_replay()  # Вызываем функцию генерации, подчсёта и вывода"
      ],
      "metadata": {
        "colab": {
          "base_uri": "https://localhost:8080/",
          "height": 0
        },
        "id": "b_rPqfTx-M_W",
        "outputId": "b85004e4-38c0-48fc-f94a-4b89caf2b915"
      },
      "execution_count": 6,
      "outputs": [
        {
          "output_type": "stream",
          "name": "stdout",
          "text": [
            "7046\n",
            "В числе нет совпадающюх цифр\n"
          ]
        }
      ]
    }
  ]
}